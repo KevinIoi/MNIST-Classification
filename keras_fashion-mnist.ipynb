{
 "cells": [
  {
   "cell_type": "code",
   "execution_count": 2,
   "metadata": {
    "colab": {},
    "colab_type": "code",
    "id": "CTJhPPIjq5p7"
   },
   "outputs": [
    {
     "name": "stderr",
     "output_type": "stream",
     "text": [
      "Using TensorFlow backend.\n"
     ]
    }
   ],
   "source": [
    "from keras import regularizers\n",
    "from keras.models import Model\n",
    "from keras.layers import Input,Dense, Flatten, Conv2D, MaxPooling2D, Add, concatenate, BatchNormalization\n",
    "from keras.utils import to_categorical, plot_model\n",
    "from keras import optimizers\n",
    "\n",
    "import matplotlib.pyplot as plt"
   ]
  },
  {
   "cell_type": "markdown",
   "metadata": {},
   "source": [
    "# Load Data"
   ]
  },
  {
   "cell_type": "code",
   "execution_count": 3,
   "metadata": {
    "colab": {
     "base_uri": "https://localhost:8080/",
     "height": 216
    },
    "colab_type": "code",
    "id": "F0wQx4QVq3JJ",
    "outputId": "7939080d-1270-4ff9-bacf-da719f3b1b3e"
   },
   "outputs": [
    {
     "name": "stdout",
     "output_type": "stream",
     "text": [
      "Downloading data from http://fashion-mnist.s3-website.eu-central-1.amazonaws.com/train-labels-idx1-ubyte.gz\n",
      "32768/29515 [=================================] - 0s 3us/step\n",
      "Downloading data from http://fashion-mnist.s3-website.eu-central-1.amazonaws.com/train-images-idx3-ubyte.gz\n",
      "26427392/26421880 [==============================] - 7s 0us/step\n",
      "Downloading data from http://fashion-mnist.s3-website.eu-central-1.amazonaws.com/t10k-labels-idx1-ubyte.gz\n",
      "8192/5148 [===============================================] - 0s 0us/step\n",
      "Downloading data from http://fashion-mnist.s3-website.eu-central-1.amazonaws.com/t10k-images-idx3-ubyte.gz\n",
      "4423680/4422102 [==============================] - 1s 0us/step\n"
     ]
    }
   ],
   "source": [
    "from keras.datasets import fashion_mnist\n",
    "\n",
    "(x_train, y_train), (x_test, y_test) = fashion_mnist.load_data()"
   ]
  },
  {
   "cell_type": "code",
   "execution_count": 4,
   "metadata": {},
   "outputs": [],
   "source": [
    "from keras.utils import to_categorical\n",
    "\n",
    "# add 1 at the end to denote greyscale\n",
    "x_train.shape += (1,) \n",
    "x_test.shape += (1,)\n",
    "\n",
    "# normalize\n",
    "x_train = x_train/255\n",
    "x_test = x_test/255\n",
    "\n",
    "# get data parameters\n",
    "inputShape =  x_train.shape[1:]\n",
    "classCount = len(set(y_test))\n",
    "\n",
    "# onehot encode truth values \n",
    "y_test = to_categorical(y_test, classCount)\n",
    "y_train = to_categorical(y_train, classCount)"
   ]
  },
  {
   "cell_type": "markdown",
   "metadata": {},
   "source": [
    "# CNN with ResNet Connections and Inception Blocks"
   ]
  },
  {
   "cell_type": "code",
   "execution_count": 6,
   "metadata": {},
   "outputs": [],
   "source": [
    "from keras.models import Model\n",
    "from keras.layers import Input,Dense, Flatten, Conv2D, MaxPooling2D, Add, concatenate, BatchNormalization\n",
    "\n",
    "# define input layer\n",
    "inputLayer = Input(shape=inputShape)\n",
    "\n",
    "# conv block 1\n",
    "network = Conv2D(filters=64,kernel_size=(5, 5),activation='relu')(inputLayer)\n",
    "network = BatchNormalization()(network)\n",
    "network = MaxPooling2D(pool_size=(3, 3), strides=(2, 2))(network)\n",
    "\n",
    "# skip connection 1\n",
    "skip_con = network # save inputs for skip connection \n",
    "network = Conv2D(filters=64, kernel_size=(3, 3),activation='relu', padding='same')(network)\n",
    "network = BatchNormalization()(network)\n",
    "nework = Add()([network,skip_con])# add inputs for skip connection\n",
    "\n",
    "# conv block 2\n",
    "network = Conv2D(64, kernel_size=(3, 3),activation='relu')(network)\n",
    "network = Conv2D(128, kernel_size=(3, 3),activation='relu')(network)\n",
    "network = BatchNormalization()(network)\n",
    "network = MaxPooling2D(pool_size=(2, 2))(network)\n",
    "\n",
    "# skip connection 2\n",
    "skip_con = network # save inputs for skip connection \n",
    "network = Conv2D(128, kernel_size=(3, 3),activation='relu', padding='same')(network)\n",
    "network = BatchNormalization()(network)\n",
    "nework = Add()([network,skip_con])# add inputs for skip connection\n",
    "\n",
    "# inception module\n",
    "conv_triXtri = Conv2D(128, (1,1), padding='same', activation='relu')(network)\n",
    "conv_triXtri = Conv2D(128, (3,3), padding='same', activation='relu')(conv_triXtri)\n",
    "conv_fiveXfive = Conv2D(128, (1,1), padding='same', activation='relu')(network)\n",
    "conv_fiveXfive = Conv2D(128, (5,5), padding='same', activation='relu')(conv_fiveXfive)\n",
    "pooling = MaxPooling2D((3,3), strides=(1,1), padding='same')(network)\n",
    "pooling = Conv2D(128, (1,1), padding='same', activation='relu')(pooling)\n",
    "conv_oneXone = Conv2D(128, (1,1), padding='same', activation='relu')(network)\n",
    "\n",
    "# combining components of inception module\n",
    "inception_mod = concatenate([conv_oneXone, conv_triXtri, conv_fiveXfive, pooling], axis = 3)\n",
    "network = BatchNormalization()(inception_mod)\n",
    "\n",
    "# fully connected layer\n",
    "network = Conv2D(128, kernel_size=(2, 2), activation='relu')(network)\n",
    "network = BatchNormalization()(network)\n",
    "network = MaxPooling2D(pool_size=(2, 2))(network)\n",
    "\n",
    "# flatten before fully connected layer\n",
    "network = Flatten()(network)\n",
    "\n",
    "# create and connect dense/output layers\n",
    "network = Dense(120, activation='relu')(network)\n",
    "outputLayer = Dense(10, activation='softmax')(network)\n",
    "\n",
    "model = Model(inputs=inputLayer, outputs=outputLayer)\n",
    "model.compile(optimizer='adam',loss='categorical_crossentropy',metrics=['accuracy'])"
   ]
  },
  {
   "cell_type": "code",
   "execution_count": 7,
   "metadata": {},
   "outputs": [],
   "source": [
    "history = model.fit(x_train, y_train, validation_split=0.1, epochs=10, verbose=False)"
   ]
  },
  {
   "cell_type": "code",
   "execution_count": 8,
   "metadata": {},
   "outputs": [
    {
     "data": {
      "image/png": "[encoded data removed]",
      "text/plain": [
       "<Figure size 432x288 with 1 Axes>"
      ]
     },
     "metadata": {
      "needs_background": "light"
     },
     "output_type": "display_data"
    }
   ],
   "source": [
    "# Plot training & validation accuracy values\n",
    "plt.plot(history.history['accuracy'])\n",
    "plt.plot(history.history['val_accuracy'])\n",
    "plt.title('Model accuracy')\n",
    "plt.ylabel('Accuracy')\n",
    "plt.xlabel('Epoch')\n",
    "plt.legend(['Train', 'Validation'], loc='upper left')\n",
    "plt.show()"
   ]
  },
  {
   "cell_type": "code",
   "execution_count": 9,
   "metadata": {},
   "outputs": [
    {
     "name": "stdout",
     "output_type": "stream",
     "text": [
      "10000/10000 [==============================] - 11s 1ms/step\n",
      "Test ACC: 0.8853999972343445\n",
      "Test Error: 0.33188413553237917\n"
     ]
    }
   ],
   "source": [
    "loss, acc = model.evaluate(x_test,y_test)\n",
    "print(f\"Test ACC: {acc}\")\n",
    "print(f\"Test Error: {loss}\")"
   ]
  },
  {
   "cell_type": "code",
   "execution_count": null,
   "metadata": {},
   "outputs": [],
   "source": []
  },
  {
   "cell_type": "code",
   "execution_count": null,
   "metadata": {},
   "outputs": [],
   "source": [
    "# Simple CNN with dropout"
   ]
  },
  {
   "cell_type": "code",
   "execution_count": 29,
   "metadata": {},
   "outputs": [],
   "source": [
    "from keras.models import Model\n",
    "from keras.layers import Input,Dense, Flatten, Conv2D, MaxPooling2D, BatchNormalization, Dropout\n",
    "\n",
    "inputLayer = Input(shape=inputShape, name='in')\n",
    "\n",
    "# block 1\n",
    "network = Conv2D(filters=64,kernel_size=(5, 5),activation='relu', name='block1_conv64')(network)\n",
    "network = BatchNormalization(name='block1_batchNorm')(network)\n",
    "network = MaxPooling2D(pool_size=(3, 3), strides=(2, 2), name='block1_maxPool')(network)\n",
    "\n",
    "# block 2\n",
    "network = Dropout(rate=0.2, name='block2_dropout1')(network)\n",
    "network = Conv2D(64, kernel_size=(3, 3),activation='relu', name='block2_conv64')(network)\n",
    "network = Dropout(rate=0.2, name='block2_dropout2')(network)\n",
    "network = Conv2D(128, kernel_size=(3, 3),activation='relu', name='block2_conv128')(network)\n",
    "network = BatchNormalization(name='block2_batchNorm')(network)\n",
    "network = MaxPooling2D(pool_size=(2, 2), name='block2_maxPool')(network)\n",
    "\n",
    "# fully connected layers\n",
    "network = Flatten(name='flatten')(network)\n",
    "network = Dense(256, activation='relu', name='fullyconnected_256')(network)\n",
    "network = Dense(128, activation='relu', name='fullyconnected_128')(network)\n",
    "\n",
    "outputLayer = Dense(10, activation='softmax', name='out')(network)\n",
    "\n",
    "model = Model(inputs=inputLayer, outputs=outputLayer)\n",
    "model.compile(optimizer='adam',loss='categorical_crossentropy',metrics=['accuracy'])"
   ]
  },
  {
   "cell_type": "code",
   "execution_count": 30,
   "metadata": {},
   "outputs": [
    {
     "name": "stdout",
     "output_type": "stream",
     "text": [
      "Train on 54000 samples, validate on 6000 samples\n",
      "Epoch 1/12\n",
      "54000/54000 [==============================] - 22s 416us/step - loss: 8.7322 - accuracy: 0.7436 - val_loss: 3.5343 - val_accuracy: 0.7410\n",
      "Epoch 2/12\n",
      "54000/54000 [==============================] - 14s 254us/step - loss: 2.0790 - accuracy: 0.7917 - val_loss: 1.3693 - val_accuracy: 0.7997\n",
      "Epoch 3/12\n",
      "54000/54000 [==============================] - 15s 270us/step - loss: 1.1949 - accuracy: 0.7980 - val_loss: 1.1240 - val_accuracy: 0.7862\n",
      "Epoch 4/12\n",
      "54000/54000 [==============================] - 15s 280us/step - loss: 1.0663 - accuracy: 0.8024 - val_loss: 1.0219 - val_accuracy: 0.8060\n",
      "Epoch 5/12\n",
      "54000/54000 [==============================] - 16s 304us/step - loss: 1.0426 - accuracy: 0.8038 - val_loss: 1.0340 - val_accuracy: 0.8022\n",
      "Epoch 6/12\n",
      "54000/54000 [==============================] - 16s 301us/step - loss: 1.0338 - accuracy: 0.8052 - val_loss: 1.1943 - val_accuracy: 0.7432\n",
      "Epoch 7/12\n",
      "54000/54000 [==============================] - 19s 355us/step - loss: 1.0236 - accuracy: 0.8084 - val_loss: 1.1119 - val_accuracy: 0.7787\n",
      "Epoch 8/12\n",
      "54000/54000 [==============================] - 20s 367us/step - loss: 1.0178 - accuracy: 0.8072 - val_loss: 1.0662 - val_accuracy: 0.7928\n",
      "Epoch 9/12\n",
      "54000/54000 [==============================] - 17s 308us/step - loss: 1.0113 - accuracy: 0.8103 - val_loss: 1.2094 - val_accuracy: 0.7265\n",
      "Epoch 10/12\n",
      "54000/54000 [==============================] - 23s 430us/step - loss: 1.0064 - accuracy: 0.8112 - val_loss: 0.9913 - val_accuracy: 0.8195\n",
      "Epoch 11/12\n",
      "54000/54000 [==============================] - 23s 433us/step - loss: 1.0004 - accuracy: 0.8132 - val_loss: 0.9720 - val_accuracy: 0.8252\n",
      "Epoch 12/12\n",
      "54000/54000 [==============================] - 23s 420us/step - loss: 1.0004 - accuracy: 0.8122 - val_loss: 0.9720 - val_accuracy: 0.8237\n"
     ]
    }
   ],
   "source": [
    "history = model.fit(x_train, y_train, validation_split=0.1, epochs=10, verbose=False)"
   ]
  },
  {
   "cell_type": "code",
   "execution_count": 31,
   "metadata": {},
   "outputs": [
    {
     "data": {
      "image/png": "[encoded data removed]",
      "text/plain": [
       "<Figure size 432x288 with 1 Axes>"
      ]
     },
     "metadata": {
      "needs_background": "light"
     },
     "output_type": "display_data"
    }
   ],
   "source": [
    "# Plot training & validation accuracy values\n",
    "plt.plot(history.history['accuracy'])\n",
    "plt.plot(history.history['val_accuracy'])\n",
    "plt.title('Model accuracy')\n",
    "plt.ylabel('Accuracy')\n",
    "plt.xlabel('Epoch')\n",
    "plt.legend(['Train', 'Validation'], loc='upper left')\n",
    "plt.show()"
   ]
  },
  {
   "cell_type": "code",
   "execution_count": 32,
   "metadata": {},
   "outputs": [
    {
     "name": "stdout",
     "output_type": "stream",
     "text": [
      "10000/10000 [==============================] - 1s 91us/step\n",
      "Test ACC: 0.8159999847412109\n",
      "Test Error: 0.9963034808158875\n"
     ]
    }
   ],
   "source": [
    "loss, acc = model.evaluate(x_test,y_test)\n",
    "print(f\"Test ACC: {acc}\")\n",
    "print(f\"Test Error: {loss}\")"
   ]
  },
  {
   "cell_type": "code",
   "execution_count": null,
   "metadata": {},
   "outputs": [],
   "source": []
  },
  {
   "cell_type": "code",
   "execution_count": null,
   "metadata": {},
   "outputs": [],
   "source": []
  },
  {
   "cell_type": "markdown",
   "metadata": {},
   "source": [
    "# Test without Skip-connections or Inception module"
   ]
  },
  {
   "cell_type": "code",
   "execution_count": 8,
   "metadata": {},
   "outputs": [],
   "source": [
    "from keras import regularizers\n",
    "from keras.models import Model\n",
    "from keras.layers import Input,Dense, Flatten, Conv2D, MaxPooling2D, Add, concatenate, BatchNormalization\n",
    "from keras.utils import to_categorical, plot_model\n",
    "from keras import optimizers\n",
    "\n",
    "import matplotlib.pyplot as plt"
   ]
  },
  {
   "cell_type": "code",
   "execution_count": 9,
   "metadata": {},
   "outputs": [],
   "source": [
    "from keras.datasets import fashion_mnist\n",
    "\n",
    "(x_train, y_train), (x_test, y_test) = fashion_mnist.load_data()"
   ]
  },
  {
   "cell_type": "code",
   "execution_count": 10,
   "metadata": {},
   "outputs": [],
   "source": [
    "#\n",
    "# Preprocess data\n",
    "#\n",
    "\n",
    "classCount = len(set(y_test))\n",
    "inputShape = [x_train.shape[1], x_train.shape[2], 1]\n",
    "\n",
    "# add 1d at the end to signify greyscale\n",
    "x_train = x_train/255\n",
    "x_test = x_test/255\n",
    "x_train = x_train.reshape(x_train.shape[0], inputShape[0], inputShape[1], 1)\n",
    "x_test = x_test.reshape(x_test.shape[0], inputShape[0], inputShape[1], 1)\n",
    "\n",
    "# 'onehot' encode truth values \n",
    "y_test = to_categorical(y_test, classCount)\n",
    "y_train = to_categorical(y_train, classCount)"
   ]
  },
  {
   "cell_type": "code",
   "execution_count": 11,
   "metadata": {},
   "outputs": [],
   "source": [
    "# define input layer\n",
    "inputLayer = Input(shape=inputShape)\n",
    "\n",
    "# conv block 1\n",
    "network = Conv2D(filters=64,kernel_size=(5, 5),activation='relu')(inputLayer)\n",
    "network = BatchNormalization()(network)\n",
    "network = MaxPooling2D(pool_size=(3, 3), strides=(2, 2))(network)\n",
    "\n",
    "# conv block 2\n",
    "network = Conv2D(64, kernel_size=(3, 3),activation='relu')(network)\n",
    "network = Conv2D(128, kernel_size=(3, 3),activation='relu')(network)\n",
    "network = BatchNormalization()(network)\n",
    "network = MaxPooling2D(pool_size=(2, 2))(network)\n",
    "\n",
    "# fully connected layer\n",
    "network = Conv2D(128, kernel_size=(2, 2), activation='relu')(network)\n",
    "network = BatchNormalization()(network)\n",
    "network = MaxPooling2D(pool_size=(2, 2))(network)\n",
    "\n",
    "# flatten before fully connected layer\n",
    "network = Flatten()(network)\n",
    "\n",
    "# create and connect dense/output layers\n",
    "network = Dense(120, activation='relu')(network)\n",
    "outputLayer = Dense(10, activation='softmax')(network)\n",
    "\n",
    "model = Model(inputs=inputLayer, outputs=outputLayer)\n",
    "model.compile(optimizer='sgd',loss='categorical_crossentropy',metrics=['accuracy'])"
   ]
  },
  {
   "cell_type": "code",
   "execution_count": 12,
   "metadata": {},
   "outputs": [
    {
     "name": "stdout",
     "output_type": "stream",
     "text": [
      "Train on 54000 samples, validate on 6000 samples\n",
      "Epoch 1/10\n",
      "54000/54000 [==============================] - 104s 2ms/step - loss: 0.5242 - accuracy: 0.8102 - val_loss: 0.4240 - val_accuracy: 0.8442\n",
      "Epoch 2/10\n",
      "54000/54000 [==============================] - 102s 2ms/step - loss: 0.3701 - accuracy: 0.8656 - val_loss: 0.3715 - val_accuracy: 0.8662\n",
      "Epoch 3/10\n",
      "54000/54000 [==============================] - 102s 2ms/step - loss: 0.3207 - accuracy: 0.8824 - val_loss: 0.3641 - val_accuracy: 0.8657\n",
      "Epoch 4/10\n",
      "54000/54000 [==============================] - 102s 2ms/step - loss: 0.2911 - accuracy: 0.8947 - val_loss: 0.3459 - val_accuracy: 0.8708\n",
      "Epoch 5/10\n",
      "54000/54000 [==============================] - 102s 2ms/step - loss: 0.2666 - accuracy: 0.9021 - val_loss: 0.3328 - val_accuracy: 0.8765\n",
      "Epoch 6/10\n",
      "54000/54000 [==============================] - 102s 2ms/step - loss: 0.2473 - accuracy: 0.9093 - val_loss: 0.3081 - val_accuracy: 0.8888\n",
      "Epoch 7/10\n",
      "54000/54000 [==============================] - 102s 2ms/step - loss: 0.2316 - accuracy: 0.9132 - val_loss: 0.3058 - val_accuracy: 0.8860\n",
      "Epoch 8/10\n",
      "54000/54000 [==============================] - 101s 2ms/step - loss: 0.2159 - accuracy: 0.9209 - val_loss: 0.3152 - val_accuracy: 0.8852\n",
      "Epoch 9/10\n",
      "54000/54000 [==============================] - 101s 2ms/step - loss: 0.2032 - accuracy: 0.9245 - val_loss: 0.2961 - val_accuracy: 0.8963\n",
      "Epoch 10/10\n",
      "54000/54000 [==============================] - 101s 2ms/step - loss: 0.1882 - accuracy: 0.9312 - val_loss: 0.4728 - val_accuracy: 0.8538\n"
     ]
    }
   ],
   "source": [
    "history = model.fit(x_train, y_train, validation_split=0.1, epochs=10)"
   ]
  },
  {
   "cell_type": "code",
   "execution_count": 14,
   "metadata": {},
   "outputs": [
    {
     "data": {
      "image/png": "[encoded data removed]",
      "text/plain": [
       "<Figure size 432x288 with 1 Axes>"
      ]
     },
     "metadata": {
      "needs_background": "light"
     },
     "output_type": "display_data"
    }
   ],
   "source": [
    "# Plot training & validation accuracy values\n",
    "plt.plot(history.history['accuracy'])\n",
    "plt.plot(history.history['val_accuracy'])\n",
    "plt.title('Model accuracy')\n",
    "plt.ylabel('Accuracy')\n",
    "plt.xlabel('Epoch')\n",
    "plt.legend(['Train', 'Validation'], loc='upper left')\n",
    "plt.show()"
   ]
  },
  {
   "cell_type": "code",
   "execution_count": 13,
   "metadata": {},
   "outputs": [
    {
     "name": "stdout",
     "output_type": "stream",
     "text": [
      "10000/10000 [==============================] - 5s 539us/step\n",
      "Test ACC: 0.8496000170707703\n",
      "Test Error: 0.4944210599064827\n"
     ]
    }
   ],
   "source": [
    "loss, acc = model.evaluate(x_test,y_test)\n",
    "print(f\"Test ACC: {acc}\")\n",
    "print(f\"Test Error: {loss}\")"
   ]
  },
  {
   "cell_type": "code",
   "execution_count": null,
   "metadata": {},
   "outputs": [],
   "source": []
  }
 ],
 "metadata": {
  "colab": {
   "collapsed_sections": [],
   "name": "Homework 3.ipynb",
   "provenance": []
  },
  "kernelspec": {
   "display_name": "Python 3",
   "language": "python",
   "name": "python3"
  },
  "language_info": {
   "codemirror_mode": {
    "name": "ipython",
    "version": 3
   },
   "file_extension": ".py",
   "mimetype": "text/x-python",
   "name": "python",
   "nbconvert_exporter": "python",
   "pygments_lexer": "ipython3",
   "version": "3.7.6"
  }
 },
 "nbformat": 4,
 "nbformat_minor": 1
}
